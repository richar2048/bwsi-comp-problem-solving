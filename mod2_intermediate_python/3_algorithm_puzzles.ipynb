{
 "cells": [
  {
   "cell_type": "markdown",
   "metadata": {},
   "source": [
    "# Algorithm Puzzles\n",
    "Below are some programming puzzles. Some of these are classic introductions to algorithmic thinking. All of them can be done in one to two dozen lines of code with python built-ins and loops. If you'd like to give yourself an additional challenge, try to account for kinds of inputs that aren't set out in the examples. "
   ]
  },
  {
   "cell_type": "markdown",
   "metadata": {},
   "source": [
    "## Longest Palidrome Substring"
   ]
  },
  {
   "cell_type": "markdown",
   "metadata": {},
   "source": [
    "### Q1. Write a function that returns the longest palindrome substring from the input string.\n",
    "A palindrome is a string of characters that are the same backwards as they are forwards. For example, the word 'level' is a palindrome, and so is the number 131. The task below is not just to detect if a word is a palindrome, but to find the part of a word that has a palindrome. See examples below for clarification:\n",
    "```python\n",
    "# Example\n",
    "longest_palindrome('apple') # returns 'pp'\n",
    "longest_palindrome('epiphany') # returns 'pip'\n",
    "longest_palindrome('12345556778') #returns '555'\n",
    "```"
   ]
  },
  {
   "cell_type": "code",
   "execution_count": 2,
   "metadata": {},
   "outputs": [],
   "source": [
    "# Write your function here!\n",
    "def longest_palindrome(string) -> str:\n",
    "    longString = \"\"\n",
    "    for a in range (len(string)):\n",
    "        for b in range(a, len(string)):\n",
    "            part = string[a: b+1]\n",
    "            checkPalindrome = True\n",
    "            for c in range (len(part)//2):\n",
    "                if part[c] != part[len(part)-1-k]:\n",
    "                    checkPalindrome = False\n",
    "                    break\n",
    "            if checkPalindrome and len(part) > len(longString):\n",
    "                longString = part\n",
    "\n",
    "    return longString"
   ]
  },
  {
   "cell_type": "markdown",
   "metadata": {},
   "source": [
    "## Roman Numeral to Integer"
   ]
  },
  {
   "cell_type": "markdown",
   "metadata": {},
   "source": [
    "### Q2. Write a function that converts a Roman numeral string into an integer.\n",
    "Roman numerals convert very easily into integers: I is 1, V is 5, and X is 10. String them together like XVI, and the number is 16. However, when the numeral I is *in front* of another numeral, it will subract from the next numeral in the sequence. So IV is 4, while VI is 6. Your task is to write a function to account for this property.\n",
    "```python\n",
    "# Example\n",
    "rom_to_int('IV') #returns 4\n",
    "rom_to_int('VI') #returns 6\n",
    "rom_to_int('XII') #returns 12\n",
    "rom_to_int('XXIX') #returns 29\n",
    "```"
   ]
  },
  {
   "cell_type": "code",
   "execution_count": 3,
   "metadata": {},
   "outputs": [],
   "source": [
    "# Write your funciton here!\n",
    "def rom_to_int(string) -> int:\n",
    "    values = {\n",
    "        'I': 1,\n",
    "        'V': 5,\n",
    "        'X': 10,\n",
    "        'L': 50,\n",
    "        'C': 100,\n",
    "        'D': 500,\n",
    "        'M': 1000\n",
    "    }\n",
    "\n",
    "    total = 0\n",
    "    a = 0\n",
    "\n",
    "    while a < len(string):\n",
    "        if a + 1 < len(string) and values[string[a]] < values[string[a+1]]:\n",
    "            total = total + values[string[a+1]] - values[string[a]]\n",
    "            a = a + 2\n",
    "        else:\n",
    "            total = total + values[string[i]]\n",
    "            i = i + 1\n",
    "            \n",
    "    return total\n",
    "        "
   ]
  },
  {
   "cell_type": "markdown",
   "metadata": {},
   "source": [
    "## Pascal's Triangle"
   ]
  },
  {
   "cell_type": "markdown",
   "metadata": {},
   "source": [
    "### Q.3 Write a function that generates values from Pascal's triangle.\n",
    "Pascal's triangle is an expanding list of numbers.\n",
    "<p>\n",
    "<img src = \"https://upload.wikimedia.org/wikipedia/commons/0/0d/PascalTriangleAnimated2.gif\">\n",
    "</p>\n",
    "Notice that every value is the sum of the numbers above it! \n",
    "\n",
    "Pascal's triangle generates something called *binomial coefficients*, an essential element of probability and combinatorics. "
   ]
  },
  {
   "cell_type": "markdown",
   "metadata": {},
   "source": [
    "Here are some examples for you to test your code!\n",
    "```python\n",
    "# Example\n",
    "pasc_generation(1) #returns [[1],[1,1]]\n",
    "pasc_generation(4) #returns [[1],[1,1],[1,2,1],[1,3,3,1],[1,4,6,4,1]]\n",
    "```"
   ]
  },
  {
   "cell_type": "code",
   "execution_count": 7,
   "metadata": {},
   "outputs": [],
   "source": [
    "# Write you function here!\n",
    "def pasc_generation(columns) -> list:\n",
    "    begTriangle = [[1]]\n",
    "    for i in range(columns):\n",
    "        past = begTriangle[-1]\n",
    "        currentRow = [0] * (len(past)+1)\n",
    "        currentRow[0] = 1\n",
    "        currentRow[-1] = 1\n",
    "\n",
    "        for a in range (1, len(past)):\n",
    "            currentRow[a] = past[a-1] + past[a]\n",
    "        \n",
    "        begTriangle = begTriangle + [currentRow]\n",
    "    \n",
    "    return begTriangle"
   ]
  },
  {
   "cell_type": "markdown",
   "metadata": {},
   "source": [
    "## "
   ]
  }
 ],
 "metadata": {
  "kernelspec": {
   "display_name": "base",
   "language": "python",
   "name": "python3"
  },
  "language_info": {
   "codemirror_mode": {
    "name": "ipython",
    "version": 3
   },
   "file_extension": ".py",
   "mimetype": "text/x-python",
   "name": "python",
   "nbconvert_exporter": "python",
   "pygments_lexer": "ipython3",
   "version": "3.13.5"
  }
 },
 "nbformat": 4,
 "nbformat_minor": 2
}
